{
 "cells": [
  {
   "cell_type": "markdown",
   "metadata": {},
   "source": [
    "## Problem Statement:"
   ]
  },
  {
   "cell_type": "markdown",
   "metadata": {},
   "source": [
    "Given below are distinguishing factors that can provide insight into what grade of the glass is being produced. Your objective as a data scientist is to build a machine learning model that can predict the grade of glass based on the given factors."
   ]
  },
  {
   "cell_type": "markdown",
   "metadata": {},
   "source": [
    "## Importing necessary libraries:"
   ]
  },
  {
   "cell_type": "code",
   "execution_count": 1,
   "metadata": {},
   "outputs": [],
   "source": [
    "import pandas as pd\n",
    "import numpy as np\n",
    "import matplotlib.pyplot as plt\n",
    "import seaborn as sns\n",
    "import scipy.stats as st"
   ]
  },
  {
   "cell_type": "markdown",
   "metadata": {},
   "source": [
    "## Reading train and test files:"
   ]
  },
  {
   "cell_type": "code",
   "execution_count": 2,
   "metadata": {},
   "outputs": [],
   "source": [
    "training_set=pd.read_csv('Glass_train.csv')\n",
    "testing_set=pd.read_csv('Glass_test.csv')"
   ]
  },
  {
   "cell_type": "code",
   "execution_count": 3,
   "metadata": {},
   "outputs": [
    {
     "data": {
      "text/html": [
       "<div>\n",
       "<style scoped>\n",
       "    .dataframe tbody tr th:only-of-type {\n",
       "        vertical-align: middle;\n",
       "    }\n",
       "\n",
       "    .dataframe tbody tr th {\n",
       "        vertical-align: top;\n",
       "    }\n",
       "\n",
       "    .dataframe thead th {\n",
       "        text-align: right;\n",
       "    }\n",
       "</style>\n",
       "<table border=\"1\" class=\"dataframe\">\n",
       "  <thead>\n",
       "    <tr style=\"text-align: right;\">\n",
       "      <th></th>\n",
       "      <th>grade_A_Component_1</th>\n",
       "      <th>grade_A_Component_2</th>\n",
       "      <th>max_luminosity</th>\n",
       "      <th>thickness</th>\n",
       "      <th>xmin</th>\n",
       "      <th>xmax</th>\n",
       "      <th>ymin</th>\n",
       "      <th>ymax</th>\n",
       "      <th>pixel_area</th>\n",
       "      <th>log_area</th>\n",
       "      <th>x_component_1</th>\n",
       "      <th>x_component_2</th>\n",
       "      <th>x_component_3</th>\n",
       "      <th>x_component_4</th>\n",
       "      <th>x_component_5</th>\n",
       "      <th>class</th>\n",
       "    </tr>\n",
       "  </thead>\n",
       "  <tbody>\n",
       "    <tr>\n",
       "      <td>0</td>\n",
       "      <td>0</td>\n",
       "      <td>1</td>\n",
       "      <td>150</td>\n",
       "      <td>36</td>\n",
       "      <td>144</td>\n",
       "      <td>172</td>\n",
       "      <td>947225</td>\n",
       "      <td>947332</td>\n",
       "      <td>439</td>\n",
       "      <td>439.099273</td>\n",
       "      <td>0</td>\n",
       "      <td>0</td>\n",
       "      <td>1</td>\n",
       "      <td>0</td>\n",
       "      <td>0</td>\n",
       "      <td>1</td>\n",
       "    </tr>\n",
       "    <tr>\n",
       "      <td>1</td>\n",
       "      <td>1</td>\n",
       "      <td>0</td>\n",
       "      <td>134</td>\n",
       "      <td>55</td>\n",
       "      <td>1144</td>\n",
       "      <td>1152</td>\n",
       "      <td>2379058</td>\n",
       "      <td>2379624</td>\n",
       "      <td>329</td>\n",
       "      <td>329.205616</td>\n",
       "      <td>1</td>\n",
       "      <td>0</td>\n",
       "      <td>0</td>\n",
       "      <td>0</td>\n",
       "      <td>0</td>\n",
       "      <td>1</td>\n",
       "    </tr>\n",
       "    <tr>\n",
       "      <td>2</td>\n",
       "      <td>1</td>\n",
       "      <td>0</td>\n",
       "      <td>135</td>\n",
       "      <td>65</td>\n",
       "      <td>950</td>\n",
       "      <td>974</td>\n",
       "      <td>1038442</td>\n",
       "      <td>1036754</td>\n",
       "      <td>300</td>\n",
       "      <td>300.120598</td>\n",
       "      <td>0</td>\n",
       "      <td>0</td>\n",
       "      <td>0</td>\n",
       "      <td>0</td>\n",
       "      <td>0</td>\n",
       "      <td>2</td>\n",
       "    </tr>\n",
       "    <tr>\n",
       "      <td>3</td>\n",
       "      <td>0</td>\n",
       "      <td>1</td>\n",
       "      <td>123</td>\n",
       "      <td>35</td>\n",
       "      <td>41</td>\n",
       "      <td>220</td>\n",
       "      <td>1705580</td>\n",
       "      <td>1705604</td>\n",
       "      <td>6803</td>\n",
       "      <td>6803.778622</td>\n",
       "      <td>0</td>\n",
       "      <td>0</td>\n",
       "      <td>1</td>\n",
       "      <td>0</td>\n",
       "      <td>0</td>\n",
       "      <td>1</td>\n",
       "    </tr>\n",
       "    <tr>\n",
       "      <td>4</td>\n",
       "      <td>1</td>\n",
       "      <td>0</td>\n",
       "      <td>138</td>\n",
       "      <td>69</td>\n",
       "      <td>462</td>\n",
       "      <td>466</td>\n",
       "      <td>1088124</td>\n",
       "      <td>1086579</td>\n",
       "      <td>251</td>\n",
       "      <td>251.401943</td>\n",
       "      <td>0</td>\n",
       "      <td>0</td>\n",
       "      <td>0</td>\n",
       "      <td>0</td>\n",
       "      <td>0</td>\n",
       "      <td>2</td>\n",
       "    </tr>\n",
       "  </tbody>\n",
       "</table>\n",
       "</div>"
      ],
      "text/plain": [
       "   grade_A_Component_1  grade_A_Component_2  max_luminosity  thickness  xmin  \\\n",
       "0                    0                    1             150         36   144   \n",
       "1                    1                    0             134         55  1144   \n",
       "2                    1                    0             135         65   950   \n",
       "3                    0                    1             123         35    41   \n",
       "4                    1                    0             138         69   462   \n",
       "\n",
       "   xmax     ymin     ymax  pixel_area     log_area  x_component_1  \\\n",
       "0   172   947225   947332         439   439.099273              0   \n",
       "1  1152  2379058  2379624         329   329.205616              1   \n",
       "2   974  1038442  1036754         300   300.120598              0   \n",
       "3   220  1705580  1705604        6803  6803.778622              0   \n",
       "4   466  1088124  1086579         251   251.401943              0   \n",
       "\n",
       "   x_component_2  x_component_3  x_component_4  x_component_5  class  \n",
       "0              0              1              0              0      1  \n",
       "1              0              0              0              0      1  \n",
       "2              0              0              0              0      2  \n",
       "3              0              1              0              0      1  \n",
       "4              0              0              0              0      2  "
      ]
     },
     "execution_count": 3,
     "metadata": {},
     "output_type": "execute_result"
    }
   ],
   "source": [
    "training_set.head()"
   ]
  },
  {
   "cell_type": "code",
   "execution_count": 4,
   "metadata": {},
   "outputs": [
    {
     "data": {
      "text/plain": [
       "(1358, 16)"
      ]
     },
     "execution_count": 4,
     "metadata": {},
     "output_type": "execute_result"
    }
   ],
   "source": [
    "training_set.shape"
   ]
  },
  {
   "cell_type": "code",
   "execution_count": 5,
   "metadata": {},
   "outputs": [
    {
     "data": {
      "text/html": [
       "<div>\n",
       "<style scoped>\n",
       "    .dataframe tbody tr th:only-of-type {\n",
       "        vertical-align: middle;\n",
       "    }\n",
       "\n",
       "    .dataframe tbody tr th {\n",
       "        vertical-align: top;\n",
       "    }\n",
       "\n",
       "    .dataframe thead th {\n",
       "        text-align: right;\n",
       "    }\n",
       "</style>\n",
       "<table border=\"1\" class=\"dataframe\">\n",
       "  <thead>\n",
       "    <tr style=\"text-align: right;\">\n",
       "      <th></th>\n",
       "      <th>grade_A_Component_1</th>\n",
       "      <th>grade_A_Component_2</th>\n",
       "      <th>max_luminosity</th>\n",
       "      <th>thickness</th>\n",
       "      <th>xmin</th>\n",
       "      <th>xmax</th>\n",
       "      <th>ymin</th>\n",
       "      <th>ymax</th>\n",
       "      <th>pixel_area</th>\n",
       "      <th>log_area</th>\n",
       "      <th>x_component_1</th>\n",
       "      <th>x_component_2</th>\n",
       "      <th>x_component_3</th>\n",
       "      <th>x_component_4</th>\n",
       "      <th>x_component_5</th>\n",
       "    </tr>\n",
       "  </thead>\n",
       "  <tbody>\n",
       "    <tr>\n",
       "      <td>0</td>\n",
       "      <td>1</td>\n",
       "      <td>0</td>\n",
       "      <td>123</td>\n",
       "      <td>65</td>\n",
       "      <td>33</td>\n",
       "      <td>54</td>\n",
       "      <td>1646439</td>\n",
       "      <td>1646893</td>\n",
       "      <td>632</td>\n",
       "      <td>632.391749</td>\n",
       "      <td>0</td>\n",
       "      <td>1</td>\n",
       "      <td>0</td>\n",
       "      <td>0</td>\n",
       "      <td>0</td>\n",
       "    </tr>\n",
       "    <tr>\n",
       "      <td>1</td>\n",
       "      <td>0</td>\n",
       "      <td>1</td>\n",
       "      <td>158</td>\n",
       "      <td>99</td>\n",
       "      <td>125</td>\n",
       "      <td>132</td>\n",
       "      <td>189874</td>\n",
       "      <td>189529</td>\n",
       "      <td>421</td>\n",
       "      <td>421.928609</td>\n",
       "      <td>0</td>\n",
       "      <td>0</td>\n",
       "      <td>0</td>\n",
       "      <td>0</td>\n",
       "      <td>0</td>\n",
       "    </tr>\n",
       "    <tr>\n",
       "      <td>2</td>\n",
       "      <td>0</td>\n",
       "      <td>1</td>\n",
       "      <td>120</td>\n",
       "      <td>35</td>\n",
       "      <td>64</td>\n",
       "      <td>75</td>\n",
       "      <td>12986873</td>\n",
       "      <td>12986862</td>\n",
       "      <td>272</td>\n",
       "      <td>272.212214</td>\n",
       "      <td>1</td>\n",
       "      <td>0</td>\n",
       "      <td>0</td>\n",
       "      <td>0</td>\n",
       "      <td>0</td>\n",
       "    </tr>\n",
       "    <tr>\n",
       "      <td>3</td>\n",
       "      <td>0</td>\n",
       "      <td>1</td>\n",
       "      <td>130</td>\n",
       "      <td>39</td>\n",
       "      <td>57</td>\n",
       "      <td>177</td>\n",
       "      <td>309634</td>\n",
       "      <td>310824</td>\n",
       "      <td>3312</td>\n",
       "      <td>3312.310581</td>\n",
       "      <td>0</td>\n",
       "      <td>0</td>\n",
       "      <td>1</td>\n",
       "      <td>0</td>\n",
       "      <td>0</td>\n",
       "    </tr>\n",
       "    <tr>\n",
       "      <td>4</td>\n",
       "      <td>1</td>\n",
       "      <td>0</td>\n",
       "      <td>142</td>\n",
       "      <td>75</td>\n",
       "      <td>23</td>\n",
       "      <td>79</td>\n",
       "      <td>5368307</td>\n",
       "      <td>5367467</td>\n",
       "      <td>862</td>\n",
       "      <td>862.499179</td>\n",
       "      <td>0</td>\n",
       "      <td>0</td>\n",
       "      <td>0</td>\n",
       "      <td>0</td>\n",
       "      <td>0</td>\n",
       "    </tr>\n",
       "  </tbody>\n",
       "</table>\n",
       "</div>"
      ],
      "text/plain": [
       "   grade_A_Component_1  grade_A_Component_2  max_luminosity  thickness  xmin  \\\n",
       "0                    1                    0             123         65    33   \n",
       "1                    0                    1             158         99   125   \n",
       "2                    0                    1             120         35    64   \n",
       "3                    0                    1             130         39    57   \n",
       "4                    1                    0             142         75    23   \n",
       "\n",
       "   xmax      ymin      ymax  pixel_area     log_area  x_component_1  \\\n",
       "0    54   1646439   1646893         632   632.391749              0   \n",
       "1   132    189874    189529         421   421.928609              0   \n",
       "2    75  12986873  12986862         272   272.212214              1   \n",
       "3   177    309634    310824        3312  3312.310581              0   \n",
       "4    79   5368307   5367467         862   862.499179              0   \n",
       "\n",
       "   x_component_2  x_component_3  x_component_4  x_component_5  \n",
       "0              1              0              0              0  \n",
       "1              0              0              0              0  \n",
       "2              0              0              0              0  \n",
       "3              0              1              0              0  \n",
       "4              0              0              0              0  "
      ]
     },
     "execution_count": 5,
     "metadata": {},
     "output_type": "execute_result"
    }
   ],
   "source": [
    "testing_set.head()"
   ]
  },
  {
   "cell_type": "code",
   "execution_count": 6,
   "metadata": {},
   "outputs": [
    {
     "data": {
      "text/plain": [
       "(583, 15)"
      ]
     },
     "execution_count": 6,
     "metadata": {},
     "output_type": "execute_result"
    }
   ],
   "source": [
    "testing_set.shape"
   ]
  },
  {
   "cell_type": "code",
   "execution_count": 7,
   "metadata": {},
   "outputs": [],
   "source": [
    "training_set['Data']='train'"
   ]
  },
  {
   "cell_type": "code",
   "execution_count": 8,
   "metadata": {},
   "outputs": [],
   "source": [
    "testing_set['Data']='test'"
   ]
  },
  {
   "cell_type": "code",
   "execution_count": 9,
   "metadata": {},
   "outputs": [],
   "source": [
    "testing_set['class']=np.nan"
   ]
  },
  {
   "cell_type": "code",
   "execution_count": 10,
   "metadata": {},
   "outputs": [
    {
     "data": {
      "text/html": [
       "<div>\n",
       "<style scoped>\n",
       "    .dataframe tbody tr th:only-of-type {\n",
       "        vertical-align: middle;\n",
       "    }\n",
       "\n",
       "    .dataframe tbody tr th {\n",
       "        vertical-align: top;\n",
       "    }\n",
       "\n",
       "    .dataframe thead th {\n",
       "        text-align: right;\n",
       "    }\n",
       "</style>\n",
       "<table border=\"1\" class=\"dataframe\">\n",
       "  <thead>\n",
       "    <tr style=\"text-align: right;\">\n",
       "      <th></th>\n",
       "      <th>grade_A_Component_1</th>\n",
       "      <th>grade_A_Component_2</th>\n",
       "      <th>max_luminosity</th>\n",
       "      <th>thickness</th>\n",
       "      <th>xmin</th>\n",
       "      <th>xmax</th>\n",
       "      <th>ymin</th>\n",
       "      <th>ymax</th>\n",
       "      <th>pixel_area</th>\n",
       "      <th>log_area</th>\n",
       "      <th>x_component_1</th>\n",
       "      <th>x_component_2</th>\n",
       "      <th>x_component_3</th>\n",
       "      <th>x_component_4</th>\n",
       "      <th>x_component_5</th>\n",
       "      <th>class</th>\n",
       "      <th>Data</th>\n",
       "    </tr>\n",
       "  </thead>\n",
       "  <tbody>\n",
       "    <tr>\n",
       "      <td>0</td>\n",
       "      <td>0</td>\n",
       "      <td>1</td>\n",
       "      <td>150</td>\n",
       "      <td>36</td>\n",
       "      <td>144</td>\n",
       "      <td>172</td>\n",
       "      <td>947225</td>\n",
       "      <td>947332</td>\n",
       "      <td>439</td>\n",
       "      <td>439.099273</td>\n",
       "      <td>0</td>\n",
       "      <td>0</td>\n",
       "      <td>1</td>\n",
       "      <td>0</td>\n",
       "      <td>0</td>\n",
       "      <td>1.0</td>\n",
       "      <td>train</td>\n",
       "    </tr>\n",
       "    <tr>\n",
       "      <td>1</td>\n",
       "      <td>1</td>\n",
       "      <td>0</td>\n",
       "      <td>134</td>\n",
       "      <td>55</td>\n",
       "      <td>1144</td>\n",
       "      <td>1152</td>\n",
       "      <td>2379058</td>\n",
       "      <td>2379624</td>\n",
       "      <td>329</td>\n",
       "      <td>329.205616</td>\n",
       "      <td>1</td>\n",
       "      <td>0</td>\n",
       "      <td>0</td>\n",
       "      <td>0</td>\n",
       "      <td>0</td>\n",
       "      <td>1.0</td>\n",
       "      <td>train</td>\n",
       "    </tr>\n",
       "    <tr>\n",
       "      <td>2</td>\n",
       "      <td>1</td>\n",
       "      <td>0</td>\n",
       "      <td>135</td>\n",
       "      <td>65</td>\n",
       "      <td>950</td>\n",
       "      <td>974</td>\n",
       "      <td>1038442</td>\n",
       "      <td>1036754</td>\n",
       "      <td>300</td>\n",
       "      <td>300.120598</td>\n",
       "      <td>0</td>\n",
       "      <td>0</td>\n",
       "      <td>0</td>\n",
       "      <td>0</td>\n",
       "      <td>0</td>\n",
       "      <td>2.0</td>\n",
       "      <td>train</td>\n",
       "    </tr>\n",
       "    <tr>\n",
       "      <td>3</td>\n",
       "      <td>0</td>\n",
       "      <td>1</td>\n",
       "      <td>123</td>\n",
       "      <td>35</td>\n",
       "      <td>41</td>\n",
       "      <td>220</td>\n",
       "      <td>1705580</td>\n",
       "      <td>1705604</td>\n",
       "      <td>6803</td>\n",
       "      <td>6803.778622</td>\n",
       "      <td>0</td>\n",
       "      <td>0</td>\n",
       "      <td>1</td>\n",
       "      <td>0</td>\n",
       "      <td>0</td>\n",
       "      <td>1.0</td>\n",
       "      <td>train</td>\n",
       "    </tr>\n",
       "    <tr>\n",
       "      <td>4</td>\n",
       "      <td>1</td>\n",
       "      <td>0</td>\n",
       "      <td>138</td>\n",
       "      <td>69</td>\n",
       "      <td>462</td>\n",
       "      <td>466</td>\n",
       "      <td>1088124</td>\n",
       "      <td>1086579</td>\n",
       "      <td>251</td>\n",
       "      <td>251.401943</td>\n",
       "      <td>0</td>\n",
       "      <td>0</td>\n",
       "      <td>0</td>\n",
       "      <td>0</td>\n",
       "      <td>0</td>\n",
       "      <td>2.0</td>\n",
       "      <td>train</td>\n",
       "    </tr>\n",
       "    <tr>\n",
       "      <td>...</td>\n",
       "      <td>...</td>\n",
       "      <td>...</td>\n",
       "      <td>...</td>\n",
       "      <td>...</td>\n",
       "      <td>...</td>\n",
       "      <td>...</td>\n",
       "      <td>...</td>\n",
       "      <td>...</td>\n",
       "      <td>...</td>\n",
       "      <td>...</td>\n",
       "      <td>...</td>\n",
       "      <td>...</td>\n",
       "      <td>...</td>\n",
       "      <td>...</td>\n",
       "      <td>...</td>\n",
       "      <td>...</td>\n",
       "      <td>...</td>\n",
       "    </tr>\n",
       "    <tr>\n",
       "      <td>1936</td>\n",
       "      <td>1</td>\n",
       "      <td>0</td>\n",
       "      <td>153</td>\n",
       "      <td>55</td>\n",
       "      <td>1479</td>\n",
       "      <td>1494</td>\n",
       "      <td>1249666</td>\n",
       "      <td>1249598</td>\n",
       "      <td>198</td>\n",
       "      <td>198.846687</td>\n",
       "      <td>0</td>\n",
       "      <td>0</td>\n",
       "      <td>0</td>\n",
       "      <td>0</td>\n",
       "      <td>0</td>\n",
       "      <td>NaN</td>\n",
       "      <td>test</td>\n",
       "    </tr>\n",
       "    <tr>\n",
       "      <td>1937</td>\n",
       "      <td>0</td>\n",
       "      <td>1</td>\n",
       "      <td>147</td>\n",
       "      <td>43</td>\n",
       "      <td>103</td>\n",
       "      <td>161</td>\n",
       "      <td>157594</td>\n",
       "      <td>156565</td>\n",
       "      <td>2703</td>\n",
       "      <td>2703.985608</td>\n",
       "      <td>0</td>\n",
       "      <td>0</td>\n",
       "      <td>1</td>\n",
       "      <td>0</td>\n",
       "      <td>0</td>\n",
       "      <td>NaN</td>\n",
       "      <td>test</td>\n",
       "    </tr>\n",
       "    <tr>\n",
       "      <td>1938</td>\n",
       "      <td>0</td>\n",
       "      <td>1</td>\n",
       "      <td>141</td>\n",
       "      <td>44</td>\n",
       "      <td>1</td>\n",
       "      <td>388</td>\n",
       "      <td>509942</td>\n",
       "      <td>511791</td>\n",
       "      <td>21195</td>\n",
       "      <td>21195.427257</td>\n",
       "      <td>0</td>\n",
       "      <td>0</td>\n",
       "      <td>1</td>\n",
       "      <td>0</td>\n",
       "      <td>0</td>\n",
       "      <td>NaN</td>\n",
       "      <td>test</td>\n",
       "    </tr>\n",
       "    <tr>\n",
       "      <td>1939</td>\n",
       "      <td>0</td>\n",
       "      <td>1</td>\n",
       "      <td>212</td>\n",
       "      <td>150</td>\n",
       "      <td>414</td>\n",
       "      <td>451</td>\n",
       "      <td>137693</td>\n",
       "      <td>138014</td>\n",
       "      <td>9169</td>\n",
       "      <td>9169.287230</td>\n",
       "      <td>1</td>\n",
       "      <td>0</td>\n",
       "      <td>0</td>\n",
       "      <td>0</td>\n",
       "      <td>0</td>\n",
       "      <td>NaN</td>\n",
       "      <td>test</td>\n",
       "    </tr>\n",
       "    <tr>\n",
       "      <td>1940</td>\n",
       "      <td>0</td>\n",
       "      <td>1</td>\n",
       "      <td>155</td>\n",
       "      <td>45</td>\n",
       "      <td>1217</td>\n",
       "      <td>1225</td>\n",
       "      <td>1413795</td>\n",
       "      <td>1413998</td>\n",
       "      <td>22</td>\n",
       "      <td>22.200599</td>\n",
       "      <td>0</td>\n",
       "      <td>0</td>\n",
       "      <td>0</td>\n",
       "      <td>1</td>\n",
       "      <td>0</td>\n",
       "      <td>NaN</td>\n",
       "      <td>test</td>\n",
       "    </tr>\n",
       "  </tbody>\n",
       "</table>\n",
       "<p>1941 rows × 17 columns</p>\n",
       "</div>"
      ],
      "text/plain": [
       "      grade_A_Component_1  grade_A_Component_2  max_luminosity  thickness  \\\n",
       "0                       0                    1             150         36   \n",
       "1                       1                    0             134         55   \n",
       "2                       1                    0             135         65   \n",
       "3                       0                    1             123         35   \n",
       "4                       1                    0             138         69   \n",
       "...                   ...                  ...             ...        ...   \n",
       "1936                    1                    0             153         55   \n",
       "1937                    0                    1             147         43   \n",
       "1938                    0                    1             141         44   \n",
       "1939                    0                    1             212        150   \n",
       "1940                    0                    1             155         45   \n",
       "\n",
       "      xmin  xmax     ymin     ymax  pixel_area      log_area  x_component_1  \\\n",
       "0      144   172   947225   947332         439    439.099273              0   \n",
       "1     1144  1152  2379058  2379624         329    329.205616              1   \n",
       "2      950   974  1038442  1036754         300    300.120598              0   \n",
       "3       41   220  1705580  1705604        6803   6803.778622              0   \n",
       "4      462   466  1088124  1086579         251    251.401943              0   \n",
       "...    ...   ...      ...      ...         ...           ...            ...   \n",
       "1936  1479  1494  1249666  1249598         198    198.846687              0   \n",
       "1937   103   161   157594   156565        2703   2703.985608              0   \n",
       "1938     1   388   509942   511791       21195  21195.427257              0   \n",
       "1939   414   451   137693   138014        9169   9169.287230              1   \n",
       "1940  1217  1225  1413795  1413998          22     22.200599              0   \n",
       "\n",
       "      x_component_2  x_component_3  x_component_4  x_component_5  class   Data  \n",
       "0                 0              1              0              0    1.0  train  \n",
       "1                 0              0              0              0    1.0  train  \n",
       "2                 0              0              0              0    2.0  train  \n",
       "3                 0              1              0              0    1.0  train  \n",
       "4                 0              0              0              0    2.0  train  \n",
       "...             ...            ...            ...            ...    ...    ...  \n",
       "1936              0              0              0              0    NaN   test  \n",
       "1937              0              1              0              0    NaN   test  \n",
       "1938              0              1              0              0    NaN   test  \n",
       "1939              0              0              0              0    NaN   test  \n",
       "1940              0              0              1              0    NaN   test  \n",
       "\n",
       "[1941 rows x 17 columns]"
      ]
     },
     "execution_count": 10,
     "metadata": {},
     "output_type": "execute_result"
    }
   ],
   "source": [
    "combined=pd.concat([training_set,testing_set],sort=False,ignore_index=True)\n",
    "combined"
   ]
  },
  {
   "cell_type": "code",
   "execution_count": 11,
   "metadata": {},
   "outputs": [
    {
     "data": {
      "text/html": [
       "<div>\n",
       "<style scoped>\n",
       "    .dataframe tbody tr th:only-of-type {\n",
       "        vertical-align: middle;\n",
       "    }\n",
       "\n",
       "    .dataframe tbody tr th {\n",
       "        vertical-align: top;\n",
       "    }\n",
       "\n",
       "    .dataframe thead th {\n",
       "        text-align: right;\n",
       "    }\n",
       "</style>\n",
       "<table border=\"1\" class=\"dataframe\">\n",
       "  <thead>\n",
       "    <tr style=\"text-align: right;\">\n",
       "      <th></th>\n",
       "      <th>grade_A_Component_1</th>\n",
       "      <th>grade_A_Component_2</th>\n",
       "      <th>max_luminosity</th>\n",
       "      <th>thickness</th>\n",
       "      <th>pixel_area</th>\n",
       "      <th>x_component_1</th>\n",
       "      <th>x_component_2</th>\n",
       "      <th>x_component_3</th>\n",
       "      <th>x_component_4</th>\n",
       "      <th>x_component_5</th>\n",
       "      <th>class</th>\n",
       "      <th>Data</th>\n",
       "      <th>x_avg</th>\n",
       "      <th>y_avg</th>\n",
       "    </tr>\n",
       "  </thead>\n",
       "  <tbody>\n",
       "    <tr>\n",
       "      <td>0</td>\n",
       "      <td>0</td>\n",
       "      <td>1</td>\n",
       "      <td>150</td>\n",
       "      <td>36</td>\n",
       "      <td>439</td>\n",
       "      <td>0</td>\n",
       "      <td>0</td>\n",
       "      <td>1</td>\n",
       "      <td>0</td>\n",
       "      <td>0</td>\n",
       "      <td>1.0</td>\n",
       "      <td>train</td>\n",
       "      <td>158.0</td>\n",
       "      <td>947278.5</td>\n",
       "    </tr>\n",
       "    <tr>\n",
       "      <td>1</td>\n",
       "      <td>1</td>\n",
       "      <td>0</td>\n",
       "      <td>134</td>\n",
       "      <td>55</td>\n",
       "      <td>329</td>\n",
       "      <td>1</td>\n",
       "      <td>0</td>\n",
       "      <td>0</td>\n",
       "      <td>0</td>\n",
       "      <td>0</td>\n",
       "      <td>1.0</td>\n",
       "      <td>train</td>\n",
       "      <td>1148.0</td>\n",
       "      <td>2379341.0</td>\n",
       "    </tr>\n",
       "    <tr>\n",
       "      <td>2</td>\n",
       "      <td>1</td>\n",
       "      <td>0</td>\n",
       "      <td>135</td>\n",
       "      <td>65</td>\n",
       "      <td>300</td>\n",
       "      <td>0</td>\n",
       "      <td>0</td>\n",
       "      <td>0</td>\n",
       "      <td>0</td>\n",
       "      <td>0</td>\n",
       "      <td>2.0</td>\n",
       "      <td>train</td>\n",
       "      <td>962.0</td>\n",
       "      <td>1037598.0</td>\n",
       "    </tr>\n",
       "    <tr>\n",
       "      <td>3</td>\n",
       "      <td>0</td>\n",
       "      <td>1</td>\n",
       "      <td>123</td>\n",
       "      <td>35</td>\n",
       "      <td>6803</td>\n",
       "      <td>0</td>\n",
       "      <td>0</td>\n",
       "      <td>1</td>\n",
       "      <td>0</td>\n",
       "      <td>0</td>\n",
       "      <td>1.0</td>\n",
       "      <td>train</td>\n",
       "      <td>130.5</td>\n",
       "      <td>1705592.0</td>\n",
       "    </tr>\n",
       "    <tr>\n",
       "      <td>4</td>\n",
       "      <td>1</td>\n",
       "      <td>0</td>\n",
       "      <td>138</td>\n",
       "      <td>69</td>\n",
       "      <td>251</td>\n",
       "      <td>0</td>\n",
       "      <td>0</td>\n",
       "      <td>0</td>\n",
       "      <td>0</td>\n",
       "      <td>0</td>\n",
       "      <td>2.0</td>\n",
       "      <td>train</td>\n",
       "      <td>464.0</td>\n",
       "      <td>1087351.5</td>\n",
       "    </tr>\n",
       "    <tr>\n",
       "      <td>...</td>\n",
       "      <td>...</td>\n",
       "      <td>...</td>\n",
       "      <td>...</td>\n",
       "      <td>...</td>\n",
       "      <td>...</td>\n",
       "      <td>...</td>\n",
       "      <td>...</td>\n",
       "      <td>...</td>\n",
       "      <td>...</td>\n",
       "      <td>...</td>\n",
       "      <td>...</td>\n",
       "      <td>...</td>\n",
       "      <td>...</td>\n",
       "      <td>...</td>\n",
       "    </tr>\n",
       "    <tr>\n",
       "      <td>1936</td>\n",
       "      <td>1</td>\n",
       "      <td>0</td>\n",
       "      <td>153</td>\n",
       "      <td>55</td>\n",
       "      <td>198</td>\n",
       "      <td>0</td>\n",
       "      <td>0</td>\n",
       "      <td>0</td>\n",
       "      <td>0</td>\n",
       "      <td>0</td>\n",
       "      <td>NaN</td>\n",
       "      <td>test</td>\n",
       "      <td>1486.5</td>\n",
       "      <td>1249632.0</td>\n",
       "    </tr>\n",
       "    <tr>\n",
       "      <td>1937</td>\n",
       "      <td>0</td>\n",
       "      <td>1</td>\n",
       "      <td>147</td>\n",
       "      <td>43</td>\n",
       "      <td>2703</td>\n",
       "      <td>0</td>\n",
       "      <td>0</td>\n",
       "      <td>1</td>\n",
       "      <td>0</td>\n",
       "      <td>0</td>\n",
       "      <td>NaN</td>\n",
       "      <td>test</td>\n",
       "      <td>132.0</td>\n",
       "      <td>157079.5</td>\n",
       "    </tr>\n",
       "    <tr>\n",
       "      <td>1938</td>\n",
       "      <td>0</td>\n",
       "      <td>1</td>\n",
       "      <td>141</td>\n",
       "      <td>44</td>\n",
       "      <td>21195</td>\n",
       "      <td>0</td>\n",
       "      <td>0</td>\n",
       "      <td>1</td>\n",
       "      <td>0</td>\n",
       "      <td>0</td>\n",
       "      <td>NaN</td>\n",
       "      <td>test</td>\n",
       "      <td>194.5</td>\n",
       "      <td>510866.5</td>\n",
       "    </tr>\n",
       "    <tr>\n",
       "      <td>1939</td>\n",
       "      <td>0</td>\n",
       "      <td>1</td>\n",
       "      <td>212</td>\n",
       "      <td>150</td>\n",
       "      <td>9169</td>\n",
       "      <td>1</td>\n",
       "      <td>0</td>\n",
       "      <td>0</td>\n",
       "      <td>0</td>\n",
       "      <td>0</td>\n",
       "      <td>NaN</td>\n",
       "      <td>test</td>\n",
       "      <td>432.5</td>\n",
       "      <td>137853.5</td>\n",
       "    </tr>\n",
       "    <tr>\n",
       "      <td>1940</td>\n",
       "      <td>0</td>\n",
       "      <td>1</td>\n",
       "      <td>155</td>\n",
       "      <td>45</td>\n",
       "      <td>22</td>\n",
       "      <td>0</td>\n",
       "      <td>0</td>\n",
       "      <td>0</td>\n",
       "      <td>1</td>\n",
       "      <td>0</td>\n",
       "      <td>NaN</td>\n",
       "      <td>test</td>\n",
       "      <td>1221.0</td>\n",
       "      <td>1413896.5</td>\n",
       "    </tr>\n",
       "  </tbody>\n",
       "</table>\n",
       "<p>1941 rows × 14 columns</p>\n",
       "</div>"
      ],
      "text/plain": [
       "      grade_A_Component_1  grade_A_Component_2  max_luminosity  thickness  \\\n",
       "0                       0                    1             150         36   \n",
       "1                       1                    0             134         55   \n",
       "2                       1                    0             135         65   \n",
       "3                       0                    1             123         35   \n",
       "4                       1                    0             138         69   \n",
       "...                   ...                  ...             ...        ...   \n",
       "1936                    1                    0             153         55   \n",
       "1937                    0                    1             147         43   \n",
       "1938                    0                    1             141         44   \n",
       "1939                    0                    1             212        150   \n",
       "1940                    0                    1             155         45   \n",
       "\n",
       "      pixel_area  x_component_1  x_component_2  x_component_3  x_component_4  \\\n",
       "0            439              0              0              1              0   \n",
       "1            329              1              0              0              0   \n",
       "2            300              0              0              0              0   \n",
       "3           6803              0              0              1              0   \n",
       "4            251              0              0              0              0   \n",
       "...          ...            ...            ...            ...            ...   \n",
       "1936         198              0              0              0              0   \n",
       "1937        2703              0              0              1              0   \n",
       "1938       21195              0              0              1              0   \n",
       "1939        9169              1              0              0              0   \n",
       "1940          22              0              0              0              1   \n",
       "\n",
       "      x_component_5  class   Data   x_avg      y_avg  \n",
       "0                 0    1.0  train   158.0   947278.5  \n",
       "1                 0    1.0  train  1148.0  2379341.0  \n",
       "2                 0    2.0  train   962.0  1037598.0  \n",
       "3                 0    1.0  train   130.5  1705592.0  \n",
       "4                 0    2.0  train   464.0  1087351.5  \n",
       "...             ...    ...    ...     ...        ...  \n",
       "1936              0    NaN   test  1486.5  1249632.0  \n",
       "1937              0    NaN   test   132.0   157079.5  \n",
       "1938              0    NaN   test   194.5   510866.5  \n",
       "1939              0    NaN   test   432.5   137853.5  \n",
       "1940              0    NaN   test  1221.0  1413896.5  \n",
       "\n",
       "[1941 rows x 14 columns]"
      ]
     },
     "execution_count": 11,
     "metadata": {},
     "output_type": "execute_result"
    }
   ],
   "source": [
    "combined['x_avg']=(combined['xmax']+combined['xmin'])/2\n",
    "combined['y_avg']=(combined['ymax']+combined['ymin'])/2\n",
    "combined.drop(['xmin','xmax','ymin','ymax','log_area'],axis=1,inplace=True)\n",
    "combined"
   ]
  },
  {
   "cell_type": "markdown",
   "metadata": {},
   "source": [
    "## Checking distribution of numerical features:"
   ]
  },
  {
   "cell_type": "code",
   "execution_count": 12,
   "metadata": {},
   "outputs": [],
   "source": [
    "l=['max_luminosity',\n",
    "       'thickness', 'pixel_area', 'x_avg',\n",
    "       'y_avg']"
   ]
  },
  {
   "cell_type": "code",
   "execution_count": 13,
   "metadata": {},
   "outputs": [
    {
     "data": {
      "image/png": "[encoded data removed]",
      "text/plain": [
       "<Figure size 432x288 with 1 Axes>"
      ]
     },
     "metadata": {
      "needs_background": "light"
     },
     "output_type": "display_data"
    },
    {
     "data": {
      "image/png": "[encoded data removed]",
      "text/plain": [
       "<Figure size 432x288 with 1 Axes>"
      ]
     },
     "metadata": {
      "needs_background": "light"
     },
     "output_type": "display_data"
    },
    {
     "data": {
      "image/png": "[encoded data removed]",
      "text/plain": [
       "<Figure size 432x288 with 1 Axes>"
      ]
     },
     "metadata": {
      "needs_background": "light"
     },
     "output_type": "display_data"
    },
    {
     "data": {
      "image/png": "[encoded data removed]",
      "text/plain": [
       "<Figure size 432x288 with 1 Axes>"
      ]
     },
     "metadata": {
      "needs_background": "light"
     },
     "output_type": "display_data"
    },
    {
     "data": {
      "image/png": "[encoded data removed]",
      "text/plain": [
       "<Figure size 432x288 with 1 Axes>"
      ]
     },
     "metadata": {
      "needs_background": "light"
     },
     "output_type": "display_data"
    }
   ],
   "source": [
    "for i in l:\n",
    "    sns.distplot(combined[i])\n",
    "    plt.show()"
   ]
  },
  {
   "cell_type": "markdown",
   "metadata": {},
   "source": [
    "## Checking outliers of numerical features:"
   ]
  },
  {
   "cell_type": "code",
   "execution_count": 14,
   "metadata": {},
   "outputs": [
    {
     "data": {
      "image/png": "[encoded data removed]",
      "text/plain": [
       "<Figure size 432x288 with 1 Axes>"
      ]
     },
     "metadata": {
      "needs_background": "light"
     },
     "output_type": "display_data"
    },
    {
     "data": {
      "image/png": "[encoded data removed]",
      "text/plain": [
       "<Figure size 432x288 with 1 Axes>"
      ]
     },
     "metadata": {
      "needs_background": "light"
     },
     "output_type": "display_data"
    },
    {
     "data": {
      "image/png": "[encoded data removed]",
      "text/plain": [
       "<Figure size 432x288 with 1 Axes>"
      ]
     },
     "metadata": {
      "needs_background": "light"
     },
     "output_type": "display_data"
    },
    {
     "data": {
      "image/png": "[encoded data removed]",
      "text/plain": [
       "<Figure size 432x288 with 1 Axes>"
      ]
     },
     "metadata": {
      "needs_background": "light"
     },
     "output_type": "display_data"
    },
    {
     "data": {
      "image/png": "[encoded data removed]",
      "text/plain": [
       "<Figure size 432x288 with 1 Axes>"
      ]
     },
     "metadata": {
      "needs_background": "light"
     },
     "output_type": "display_data"
    }
   ],
   "source": [
    "for i in l:\n",
    "    sns.boxplot(combined[i])\n",
    "    plt.show()"
   ]
  },
  {
   "cell_type": "code",
   "execution_count": 15,
   "metadata": {},
   "outputs": [
    {
     "data": {
      "text/plain": [
       "grade_A_Component_1     0.407249\n",
       "grade_A_Component_2    -0.407249\n",
       "max_luminosity          0.993434\n",
       "thickness               2.206675\n",
       "pixel_area             14.085006\n",
       "x_component_1           3.063973\n",
       "x_component_2           2.708438\n",
       "x_component_3           1.489927\n",
       "x_component_4           4.902448\n",
       "x_component_5           5.689472\n",
       "class                   0.644319\n",
       "x_avg                   0.523679\n",
       "y_avg                   2.811110\n",
       "dtype: float64"
      ]
     },
     "execution_count": 15,
     "metadata": {},
     "output_type": "execute_result"
    }
   ],
   "source": [
    "combined.skew()"
   ]
  },
  {
   "cell_type": "code",
   "execution_count": 16,
   "metadata": {},
   "outputs": [
    {
     "data": {
      "text/plain": [
       "grade_A_Component_1    0.407249\n",
       "grade_A_Component_2   -0.407249\n",
       "max_luminosity         0.085627\n",
       "thickness              0.169867\n",
       "pixel_area            -0.038360\n",
       "x_component_1          3.063973\n",
       "x_component_2          2.708438\n",
       "x_component_3          1.489927\n",
       "x_component_4          4.902448\n",
       "x_component_5          5.689472\n",
       "class                  0.644319\n",
       "x_avg                 -0.159090\n",
       "y_avg                 -0.021219\n",
       "dtype: float64"
      ]
     },
     "execution_count": 16,
     "metadata": {},
     "output_type": "execute_result"
    }
   ],
   "source": [
    "for i in l:\n",
    "    combined[i]=list(st.boxcox(combined[i]+1)[0])\n",
    "combined.skew()"
   ]
  },
  {
   "cell_type": "code",
   "execution_count": 17,
   "metadata": {},
   "outputs": [
    {
     "data": {
      "image/png": "[encoded data removed]",
      "text/plain": [
       "<Figure size 432x288 with 1 Axes>"
      ]
     },
     "metadata": {
      "needs_background": "light"
     },
     "output_type": "display_data"
    },
    {
     "data": {
      "image/png": "[encoded data removed]",
      "text/plain": [
       "<Figure size 432x288 with 1 Axes>"
      ]
     },
     "metadata": {
      "needs_background": "light"
     },
     "output_type": "display_data"
    },
    {
     "data": {
      "image/png": "[encoded data removed]",
      "text/plain": [
       "<Figure size 432x288 with 1 Axes>"
      ]
     },
     "metadata": {
      "needs_background": "light"
     },
     "output_type": "display_data"
    },
    {
     "data": {
      "image/png": "[encoded data removed]",
      "text/plain": [
       "<Figure size 432x288 with 1 Axes>"
      ]
     },
     "metadata": {
      "needs_background": "light"
     },
     "output_type": "display_data"
    },
    {
     "data": {
      "image/png": "[encoded data removed]",
      "text/plain": [
       "<Figure size 432x288 with 1 Axes>"
      ]
     },
     "metadata": {
      "needs_background": "light"
     },
     "output_type": "display_data"
    }
   ],
   "source": [
    "for i in l:\n",
    "    sns.boxplot(combined[i])\n",
    "    plt.show()"
   ]
  },
  {
   "cell_type": "markdown",
   "metadata": {},
   "source": [
    "## Checking whether the target variable is balanced or not :"
   ]
  },
  {
   "cell_type": "code",
   "execution_count": 18,
   "metadata": {},
   "outputs": [
    {
     "data": {
      "text/plain": [
       "1.0    887\n",
       "2.0    471\n",
       "Name: class, dtype: int64"
      ]
     },
     "execution_count": 18,
     "metadata": {},
     "output_type": "execute_result"
    },
    {
     "data": {
      "image/png": "[encoded data removed]",
      "text/plain": [
       "<Figure size 432x288 with 1 Axes>"
      ]
     },
     "metadata": {
      "needs_background": "light"
     },
     "output_type": "display_data"
    }
   ],
   "source": [
    "sns.countplot(combined['class'])\n",
    "combined['class'].value_counts()"
   ]
  },
  {
   "cell_type": "code",
   "execution_count": 19,
   "metadata": {},
   "outputs": [],
   "source": [
    "#Divide into test and train:\n",
    "train = combined.loc[combined['Data']==\"train\"]\n",
    "test = combined.loc[combined['Data']==\"test\"]"
   ]
  },
  {
   "cell_type": "code",
   "execution_count": 20,
   "metadata": {},
   "outputs": [
    {
     "data": {
      "text/plain": [
       "(1358, 14)"
      ]
     },
     "execution_count": 20,
     "metadata": {},
     "output_type": "execute_result"
    }
   ],
   "source": [
    "train.shape"
   ]
  },
  {
   "cell_type": "code",
   "execution_count": 21,
   "metadata": {},
   "outputs": [
    {
     "data": {
      "text/plain": [
       "(583, 14)"
      ]
     },
     "execution_count": 21,
     "metadata": {},
     "output_type": "execute_result"
    }
   ],
   "source": [
    "test.shape"
   ]
  },
  {
   "cell_type": "code",
   "execution_count": 22,
   "metadata": {},
   "outputs": [
    {
     "name": "stderr",
     "output_type": "stream",
     "text": [
      "D:\\Anaconda\\lib\\site-packages\\pandas\\core\\frame.py:4102: SettingWithCopyWarning: \n",
      "A value is trying to be set on a copy of a slice from a DataFrame\n",
      "\n",
      "See the caveats in the documentation: http://pandas.pydata.org/pandas-docs/stable/user_guide/indexing.html#returning-a-view-versus-a-copy\n",
      "  errors=errors,\n"
     ]
    }
   ],
   "source": [
    "train.drop('Data',axis=1,inplace=True)"
   ]
  },
  {
   "cell_type": "code",
   "execution_count": 23,
   "metadata": {},
   "outputs": [],
   "source": [
    "test.drop('Data',axis=1,inplace=True)"
   ]
  },
  {
   "cell_type": "code",
   "execution_count": 24,
   "metadata": {},
   "outputs": [
    {
     "data": {
      "text/html": [
       "<div>\n",
       "<style scoped>\n",
       "    .dataframe tbody tr th:only-of-type {\n",
       "        vertical-align: middle;\n",
       "    }\n",
       "\n",
       "    .dataframe tbody tr th {\n",
       "        vertical-align: top;\n",
       "    }\n",
       "\n",
       "    .dataframe thead th {\n",
       "        text-align: right;\n",
       "    }\n",
       "</style>\n",
       "<table border=\"1\" class=\"dataframe\">\n",
       "  <thead>\n",
       "    <tr style=\"text-align: right;\">\n",
       "      <th></th>\n",
       "      <th>grade_A_Component_1</th>\n",
       "      <th>grade_A_Component_2</th>\n",
       "      <th>max_luminosity</th>\n",
       "      <th>thickness</th>\n",
       "      <th>pixel_area</th>\n",
       "      <th>x_component_1</th>\n",
       "      <th>x_component_2</th>\n",
       "      <th>x_component_3</th>\n",
       "      <th>x_component_4</th>\n",
       "      <th>x_component_5</th>\n",
       "      <th>class</th>\n",
       "      <th>x_avg</th>\n",
       "      <th>y_avg</th>\n",
       "    </tr>\n",
       "  </thead>\n",
       "  <tbody>\n",
       "    <tr>\n",
       "      <td>0</td>\n",
       "      <td>0</td>\n",
       "      <td>1</td>\n",
       "      <td>14.054602</td>\n",
       "      <td>1.096465</td>\n",
       "      <td>2.950941</td>\n",
       "      <td>0</td>\n",
       "      <td>0</td>\n",
       "      <td>1</td>\n",
       "      <td>0</td>\n",
       "      <td>0</td>\n",
       "      <td>1.0</td>\n",
       "      <td>11.959589</td>\n",
       "      <td>110.778445</td>\n",
       "    </tr>\n",
       "    <tr>\n",
       "      <td>1</td>\n",
       "      <td>1</td>\n",
       "      <td>0</td>\n",
       "      <td>13.391945</td>\n",
       "      <td>1.111330</td>\n",
       "      <td>2.894981</td>\n",
       "      <td>1</td>\n",
       "      <td>0</td>\n",
       "      <td>0</td>\n",
       "      <td>0</td>\n",
       "      <td>0</td>\n",
       "      <td>1.0</td>\n",
       "      <td>24.397744</td>\n",
       "      <td>139.403761</td>\n",
       "    </tr>\n",
       "    <tr>\n",
       "      <td>2</td>\n",
       "      <td>1</td>\n",
       "      <td>0</td>\n",
       "      <td>13.434795</td>\n",
       "      <td>1.115886</td>\n",
       "      <td>2.876133</td>\n",
       "      <td>0</td>\n",
       "      <td>0</td>\n",
       "      <td>0</td>\n",
       "      <td>0</td>\n",
       "      <td>0</td>\n",
       "      <td>2.0</td>\n",
       "      <td>22.962307</td>\n",
       "      <td>113.333899</td>\n",
       "    </tr>\n",
       "    <tr>\n",
       "      <td>3</td>\n",
       "      <td>0</td>\n",
       "      <td>1</td>\n",
       "      <td>12.906550</td>\n",
       "      <td>1.095280</td>\n",
       "      <td>3.310319</td>\n",
       "      <td>0</td>\n",
       "      <td>0</td>\n",
       "      <td>1</td>\n",
       "      <td>0</td>\n",
       "      <td>0</td>\n",
       "      <td>1.0</td>\n",
       "      <td>11.110346</td>\n",
       "      <td>128.314896</td>\n",
       "    </tr>\n",
       "    <tr>\n",
       "      <td>4</td>\n",
       "      <td>1</td>\n",
       "      <td>0</td>\n",
       "      <td>13.562142</td>\n",
       "      <td>1.117366</td>\n",
       "      <td>2.838342</td>\n",
       "      <td>0</td>\n",
       "      <td>0</td>\n",
       "      <td>0</td>\n",
       "      <td>0</td>\n",
       "      <td>0</td>\n",
       "      <td>2.0</td>\n",
       "      <td>17.788400</td>\n",
       "      <td>114.670187</td>\n",
       "    </tr>\n",
       "  </tbody>\n",
       "</table>\n",
       "</div>"
      ],
      "text/plain": [
       "   grade_A_Component_1  grade_A_Component_2  max_luminosity  thickness  \\\n",
       "0                    0                    1       14.054602   1.096465   \n",
       "1                    1                    0       13.391945   1.111330   \n",
       "2                    1                    0       13.434795   1.115886   \n",
       "3                    0                    1       12.906550   1.095280   \n",
       "4                    1                    0       13.562142   1.117366   \n",
       "\n",
       "   pixel_area  x_component_1  x_component_2  x_component_3  x_component_4  \\\n",
       "0    2.950941              0              0              1              0   \n",
       "1    2.894981              1              0              0              0   \n",
       "2    2.876133              0              0              0              0   \n",
       "3    3.310319              0              0              1              0   \n",
       "4    2.838342              0              0              0              0   \n",
       "\n",
       "   x_component_5  class      x_avg       y_avg  \n",
       "0              0    1.0  11.959589  110.778445  \n",
       "1              0    1.0  24.397744  139.403761  \n",
       "2              0    2.0  22.962307  113.333899  \n",
       "3              0    1.0  11.110346  128.314896  \n",
       "4              0    2.0  17.788400  114.670187  "
      ]
     },
     "execution_count": 24,
     "metadata": {},
     "output_type": "execute_result"
    }
   ],
   "source": [
    "train.head()"
   ]
  },
  {
   "cell_type": "code",
   "execution_count": 25,
   "metadata": {},
   "outputs": [
    {
     "data": {
      "text/html": [
       "<div>\n",
       "<style scoped>\n",
       "    .dataframe tbody tr th:only-of-type {\n",
       "        vertical-align: middle;\n",
       "    }\n",
       "\n",
       "    .dataframe tbody tr th {\n",
       "        vertical-align: top;\n",
       "    }\n",
       "\n",
       "    .dataframe thead th {\n",
       "        text-align: right;\n",
       "    }\n",
       "</style>\n",
       "<table border=\"1\" class=\"dataframe\">\n",
       "  <thead>\n",
       "    <tr style=\"text-align: right;\">\n",
       "      <th></th>\n",
       "      <th>grade_A_Component_1</th>\n",
       "      <th>grade_A_Component_2</th>\n",
       "      <th>max_luminosity</th>\n",
       "      <th>thickness</th>\n",
       "      <th>pixel_area</th>\n",
       "      <th>x_component_1</th>\n",
       "      <th>x_component_2</th>\n",
       "      <th>x_component_3</th>\n",
       "      <th>x_component_4</th>\n",
       "      <th>x_component_5</th>\n",
       "      <th>class</th>\n",
       "      <th>x_avg</th>\n",
       "      <th>y_avg</th>\n",
       "    </tr>\n",
       "  </thead>\n",
       "  <tbody>\n",
       "    <tr>\n",
       "      <td>1358</td>\n",
       "      <td>1</td>\n",
       "      <td>0</td>\n",
       "      <td>12.906550</td>\n",
       "      <td>1.115886</td>\n",
       "      <td>3.015624</td>\n",
       "      <td>0</td>\n",
       "      <td>1</td>\n",
       "      <td>0</td>\n",
       "      <td>0</td>\n",
       "      <td>0</td>\n",
       "      <td>NaN</td>\n",
       "      <td>7.092891</td>\n",
       "      <td>127.194980</td>\n",
       "    </tr>\n",
       "    <tr>\n",
       "      <td>1359</td>\n",
       "      <td>0</td>\n",
       "      <td>1</td>\n",
       "      <td>14.369097</td>\n",
       "      <td>1.124874</td>\n",
       "      <td>2.943089</td>\n",
       "      <td>0</td>\n",
       "      <td>0</td>\n",
       "      <td>0</td>\n",
       "      <td>0</td>\n",
       "      <td>0</td>\n",
       "      <td>NaN</td>\n",
       "      <td>11.043901</td>\n",
       "      <td>73.793650</td>\n",
       "    </tr>\n",
       "    <tr>\n",
       "      <td>1360</td>\n",
       "      <td>0</td>\n",
       "      <td>1</td>\n",
       "      <td>12.769404</td>\n",
       "      <td>1.095280</td>\n",
       "      <td>2.855595</td>\n",
       "      <td>1</td>\n",
       "      <td>0</td>\n",
       "      <td>0</td>\n",
       "      <td>0</td>\n",
       "      <td>0</td>\n",
       "      <td>NaN</td>\n",
       "      <td>8.640463</td>\n",
       "      <td>212.122131</td>\n",
       "    </tr>\n",
       "    <tr>\n",
       "      <td>1361</td>\n",
       "      <td>0</td>\n",
       "      <td>1</td>\n",
       "      <td>13.218481</td>\n",
       "      <td>1.099687</td>\n",
       "      <td>3.240362</td>\n",
       "      <td>0</td>\n",
       "      <td>0</td>\n",
       "      <td>1</td>\n",
       "      <td>0</td>\n",
       "      <td>0</td>\n",
       "      <td>NaN</td>\n",
       "      <td>10.647228</td>\n",
       "      <td>83.623117</td>\n",
       "    </tr>\n",
       "    <tr>\n",
       "      <td>1362</td>\n",
       "      <td>1</td>\n",
       "      <td>0</td>\n",
       "      <td>13.729224</td>\n",
       "      <td>1.119310</td>\n",
       "      <td>3.065857</td>\n",
       "      <td>0</td>\n",
       "      <td>0</td>\n",
       "      <td>0</td>\n",
       "      <td>0</td>\n",
       "      <td>0</td>\n",
       "      <td>NaN</td>\n",
       "      <td>7.592935</td>\n",
       "      <td>170.569758</td>\n",
       "    </tr>\n",
       "  </tbody>\n",
       "</table>\n",
       "</div>"
      ],
      "text/plain": [
       "      grade_A_Component_1  grade_A_Component_2  max_luminosity  thickness  \\\n",
       "1358                    1                    0       12.906550   1.115886   \n",
       "1359                    0                    1       14.369097   1.124874   \n",
       "1360                    0                    1       12.769404   1.095280   \n",
       "1361                    0                    1       13.218481   1.099687   \n",
       "1362                    1                    0       13.729224   1.119310   \n",
       "\n",
       "      pixel_area  x_component_1  x_component_2  x_component_3  x_component_4  \\\n",
       "1358    3.015624              0              1              0              0   \n",
       "1359    2.943089              0              0              0              0   \n",
       "1360    2.855595              1              0              0              0   \n",
       "1361    3.240362              0              0              1              0   \n",
       "1362    3.065857              0              0              0              0   \n",
       "\n",
       "      x_component_5  class      x_avg       y_avg  \n",
       "1358              0    NaN   7.092891  127.194980  \n",
       "1359              0    NaN  11.043901   73.793650  \n",
       "1360              0    NaN   8.640463  212.122131  \n",
       "1361              0    NaN  10.647228   83.623117  \n",
       "1362              0    NaN   7.592935  170.569758  "
      ]
     },
     "execution_count": 25,
     "metadata": {},
     "output_type": "execute_result"
    }
   ],
   "source": [
    "test.head()"
   ]
  },
  {
   "cell_type": "markdown",
   "metadata": {},
   "source": [
    "## Splitting train dataset into X and y:"
   ]
  },
  {
   "cell_type": "code",
   "execution_count": 26,
   "metadata": {},
   "outputs": [],
   "source": [
    "X=train.drop('class',axis=1)\n",
    "y=train['class']"
   ]
  },
  {
   "cell_type": "code",
   "execution_count": 27,
   "metadata": {},
   "outputs": [
    {
     "name": "stderr",
     "output_type": "stream",
     "text": [
      "D:\\Anaconda\\lib\\site-packages\\sklearn\\utils\\deprecation.py:144: FutureWarning: The sklearn.neighbors.base module is  deprecated in version 0.22 and will be removed in version 0.24. The corresponding classes / functions should instead be imported from sklearn.neighbors. Anything that cannot be imported from sklearn.neighbors is now part of the private API.\n",
      "  warnings.warn(message, FutureWarning)\n",
      "D:\\Anaconda\\lib\\site-packages\\sklearn\\utils\\deprecation.py:144: FutureWarning: The sklearn.ensemble.bagging module is  deprecated in version 0.22 and will be removed in version 0.24. The corresponding classes / functions should instead be imported from sklearn.ensemble. Anything that cannot be imported from sklearn.ensemble is now part of the private API.\n",
      "  warnings.warn(message, FutureWarning)\n",
      "D:\\Anaconda\\lib\\site-packages\\sklearn\\utils\\deprecation.py:144: FutureWarning: The sklearn.ensemble.base module is  deprecated in version 0.22 and will be removed in version 0.24. The corresponding classes / functions should instead be imported from sklearn.ensemble. Anything that cannot be imported from sklearn.ensemble is now part of the private API.\n",
      "  warnings.warn(message, FutureWarning)\n",
      "D:\\Anaconda\\lib\\site-packages\\sklearn\\utils\\deprecation.py:144: FutureWarning: The sklearn.ensemble.forest module is  deprecated in version 0.22 and will be removed in version 0.24. The corresponding classes / functions should instead be imported from sklearn.ensemble. Anything that cannot be imported from sklearn.ensemble is now part of the private API.\n",
      "  warnings.warn(message, FutureWarning)\n",
      "Using TensorFlow backend.\n",
      "D:\\Anaconda\\lib\\site-packages\\sklearn\\utils\\deprecation.py:144: FutureWarning: The sklearn.utils.testing module is  deprecated in version 0.22 and will be removed in version 0.24. The corresponding classes / functions should instead be imported from sklearn.utils. Anything that cannot be imported from sklearn.utils is now part of the private API.\n",
      "  warnings.warn(message, FutureWarning)\n",
      "D:\\Anaconda\\lib\\site-packages\\sklearn\\utils\\deprecation.py:144: FutureWarning: The sklearn.metrics.classification module is  deprecated in version 0.22 and will be removed in version 0.24. The corresponding classes / functions should instead be imported from sklearn.metrics. Anything that cannot be imported from sklearn.metrics is now part of the private API.\n",
      "  warnings.warn(message, FutureWarning)\n"
     ]
    }
   ],
   "source": [
    "from sklearn.model_selection import train_test_split\n",
    "from sklearn.preprocessing import StandardScaler\n",
    "from sklearn.decomposition import PCA\n",
    "from sklearn.pipeline import Pipeline\n",
    "#from sklearn.externals import joblib\n",
    "from sklearn.linear_model import LogisticRegression\n",
    "from sklearn.tree import DecisionTreeClassifier\n",
    "from sklearn.ensemble import RandomForestClassifier\n",
    "from imblearn.over_sampling import SMOTE\n",
    "from sklearn.neighbors import KNeighborsClassifier as KNN\n",
    "from xgboost.sklearn import XGBClassifier\n",
    "from sklearn.ensemble import AdaBoostClassifier\n",
    "import lightgbm as lgb\n",
    "from sklearn.metrics import classification_report\n",
    "from sklearn.linear_model import SGDClassifier\n",
    "from sklearn.naive_bayes import GaussianNB\n",
    "from sklearn.svm import SVC\n",
    "from sklearn.ensemble import ExtraTreesClassifier\n",
    "from tpot import TPOTClassifier\n",
    "from scipy.stats import randint as sp_randint\n",
    "from scipy.stats import uniform as sp_uniform\n",
    "from sklearn.ensemble import AdaBoostClassifier\n",
    "from sklearn.ensemble import GradientBoostingClassifier\n",
    "from sklearn.model_selection import RandomizedSearchCV"
   ]
  },
  {
   "cell_type": "code",
   "execution_count": 28,
   "metadata": {},
   "outputs": [],
   "source": [
    "X_train,X_test,y_train,y_test=train_test_split(X,y, test_size=0.3, random_state=0)"
   ]
  },
  {
   "cell_type": "markdown",
   "metadata": {},
   "source": [
    "# Data Preprocessing using standard scaler\n",
    "# Reducing dimension using PCA\n",
    "# Apply classifier"
   ]
  },
  {
   "cell_type": "code",
   "execution_count": 29,
   "metadata": {},
   "outputs": [],
   "source": [
    "pipeline_lr=Pipeline([('scalar1',StandardScaler()),\n",
    "                     ('lr',LogisticRegression())])"
   ]
  },
  {
   "cell_type": "code",
   "execution_count": 30,
   "metadata": {},
   "outputs": [],
   "source": [
    "pipeline_dt=Pipeline([('scaler2',StandardScaler()),\n",
    "                     ('dt',DecisionTreeClassifier())])"
   ]
  },
  {
   "cell_type": "code",
   "execution_count": 31,
   "metadata": {},
   "outputs": [],
   "source": [
    "pipeline_rf=Pipeline([('scalar3',StandardScaler()),\n",
    "                     ('rfc',RandomForestClassifier())])"
   ]
  },
  {
   "cell_type": "code",
   "execution_count": 32,
   "metadata": {},
   "outputs": [],
   "source": [
    "pipeline_knn=Pipeline([('scalar4',StandardScaler()),\n",
    "                     ('knn',KNN())])"
   ]
  },
  {
   "cell_type": "code",
   "execution_count": 33,
   "metadata": {},
   "outputs": [],
   "source": [
    "pipeline_xgbc=Pipeline([('scalar5',StandardScaler()),\n",
    "                     ('xgboost',XGBClassifier())])"
   ]
  },
  {
   "cell_type": "code",
   "execution_count": 34,
   "metadata": {},
   "outputs": [],
   "source": [
    "pipeline_lgbc=Pipeline([('scalar6',StandardScaler()),\n",
    "                     ('lgbc',lgb.LGBMClassifier())])"
   ]
  },
  {
   "cell_type": "code",
   "execution_count": 35,
   "metadata": {},
   "outputs": [],
   "source": [
    "pipeline_ada=Pipeline([('scalar7',StandardScaler()),\n",
    "                     ('adaboost',AdaBoostClassifier())])"
   ]
  },
  {
   "cell_type": "code",
   "execution_count": 36,
   "metadata": {},
   "outputs": [],
   "source": [
    "pipeline_sgdc=Pipeline([('scalar8',StandardScaler()),\n",
    "                     ('sgradient',SGDClassifier())])"
   ]
  },
  {
   "cell_type": "code",
   "execution_count": 37,
   "metadata": {},
   "outputs": [],
   "source": [
    "pipeline_nb=Pipeline([('scalar9',StandardScaler()),\n",
    "                     ('nb',GaussianNB())])"
   ]
  },
  {
   "cell_type": "code",
   "execution_count": 38,
   "metadata": {},
   "outputs": [],
   "source": [
    "pipeline_extratree=Pipeline([('scalar10',StandardScaler()),\n",
    "                     ('extratree',ExtraTreesClassifier())])"
   ]
  },
  {
   "cell_type": "code",
   "execution_count": 39,
   "metadata": {},
   "outputs": [],
   "source": [
    "pipeline_svc=Pipeline([('scalar11',StandardScaler()),\n",
    "                     ('svc',SVC())])"
   ]
  },
  {
   "cell_type": "code",
   "execution_count": 40,
   "metadata": {},
   "outputs": [],
   "source": [
    "pipeline_gbc=Pipeline([('scalar12',StandardScaler()),\n",
    "                     ('GBC',GradientBoostingClassifier())])"
   ]
  },
  {
   "cell_type": "code",
   "execution_count": 41,
   "metadata": {},
   "outputs": [],
   "source": [
    "# Lets make the list of pipelines"
   ]
  },
  {
   "cell_type": "code",
   "execution_count": 42,
   "metadata": {},
   "outputs": [],
   "source": [
    "pipelines=[pipeline_lr,pipeline_dt,pipeline_rf,pipeline_knn,pipeline_xgbc,pipeline_lgbc,pipeline_ada,pipeline_sgdc,pipeline_nb,pipeline_extratree,pipeline_svc,pipeline_gbc]"
   ]
  },
  {
   "cell_type": "code",
   "execution_count": 43,
   "metadata": {},
   "outputs": [],
   "source": [
    "best_accuracy=0.0\n",
    "best_classifier=0\n",
    "best_pipeline=\"\""
   ]
  },
  {
   "cell_type": "code",
   "execution_count": 44,
   "metadata": {},
   "outputs": [],
   "source": [
    "pipe_dict={0:'Logistic Regression',1:'Decision Tree',2:'Random Forest',3:'KNN',4:'XGBC',5:'LGBC',6:'ADA',7:'SGDC',8:'NB',9:'ExtraTree',10:'SVC',11:'GBC'}"
   ]
  },
  {
   "cell_type": "code",
   "execution_count": 45,
   "metadata": {},
   "outputs": [],
   "source": [
    "smote = SMOTE('minority')"
   ]
  },
  {
   "cell_type": "code",
   "execution_count": 46,
   "metadata": {},
   "outputs": [
    {
     "name": "stderr",
     "output_type": "stream",
     "text": [
      "D:\\Anaconda\\lib\\site-packages\\sklearn\\utils\\deprecation.py:87: FutureWarning: Function safe_indexing is deprecated; safe_indexing is deprecated in version 0.22 and will be removed in version 0.24.\n",
      "  warnings.warn(msg, category=FutureWarning)\n"
     ]
    },
    {
     "name": "stdout",
     "output_type": "stream",
     "text": [
      "(1258, 12) (1258,)\n"
     ]
    }
   ],
   "source": [
    "X_sm, y_sm = smote.fit_sample(X_train,y_train)\n",
    "print(X_sm.shape, y_sm.shape)"
   ]
  },
  {
   "cell_type": "code",
   "execution_count": 47,
   "metadata": {},
   "outputs": [
    {
     "name": "stdout",
     "output_type": "stream",
     "text": [
      "Classification Report : \n",
      "               precision    recall  f1-score   support\n",
      "\n",
      "         1.0       0.97      0.72      0.83       258\n",
      "         2.0       0.67      0.96      0.79       150\n",
      "\n",
      "    accuracy                           0.81       408\n",
      "   macro avg       0.82      0.84      0.81       408\n",
      "weighted avg       0.86      0.81      0.81       408\n",
      "\n",
      "Classification Report : \n",
      "               precision    recall  f1-score   support\n",
      "\n",
      "         1.0       0.86      0.87      0.87       258\n",
      "         2.0       0.78      0.76      0.77       150\n",
      "\n",
      "    accuracy                           0.83       408\n",
      "   macro avg       0.82      0.82      0.82       408\n",
      "weighted avg       0.83      0.83      0.83       408\n",
      "\n",
      "Classification Report : \n",
      "               precision    recall  f1-score   support\n",
      "\n",
      "         1.0       0.91      0.88      0.89       258\n",
      "         2.0       0.80      0.85      0.82       150\n",
      "\n",
      "    accuracy                           0.87       408\n",
      "   macro avg       0.86      0.86      0.86       408\n",
      "weighted avg       0.87      0.87      0.87       408\n",
      "\n",
      "Classification Report : \n",
      "               precision    recall  f1-score   support\n",
      "\n",
      "         1.0       0.90      0.84      0.87       258\n",
      "         2.0       0.75      0.84      0.79       150\n",
      "\n",
      "    accuracy                           0.84       408\n",
      "   macro avg       0.82      0.84      0.83       408\n",
      "weighted avg       0.84      0.84      0.84       408\n",
      "\n",
      "Classification Report : \n",
      "               precision    recall  f1-score   support\n",
      "\n",
      "         1.0       0.90      0.88      0.89       258\n",
      "         2.0       0.81      0.83      0.82       150\n",
      "\n",
      "    accuracy                           0.87       408\n",
      "   macro avg       0.85      0.86      0.86       408\n",
      "weighted avg       0.87      0.87      0.87       408\n",
      "\n",
      "Classification Report : \n",
      "               precision    recall  f1-score   support\n",
      "\n",
      "         1.0       0.91      0.89      0.90       258\n",
      "         2.0       0.81      0.85      0.83       150\n",
      "\n",
      "    accuracy                           0.87       408\n",
      "   macro avg       0.86      0.87      0.86       408\n",
      "weighted avg       0.87      0.87      0.87       408\n",
      "\n",
      "Classification Report : \n",
      "               precision    recall  f1-score   support\n",
      "\n",
      "         1.0       0.91      0.84      0.87       258\n",
      "         2.0       0.75      0.85      0.80       150\n",
      "\n",
      "    accuracy                           0.84       408\n",
      "   macro avg       0.83      0.85      0.84       408\n",
      "weighted avg       0.85      0.84      0.84       408\n",
      "\n",
      "Classification Report : \n",
      "               precision    recall  f1-score   support\n",
      "\n",
      "         1.0       0.90      0.76      0.82       258\n",
      "         2.0       0.67      0.86      0.75       150\n",
      "\n",
      "    accuracy                           0.79       408\n",
      "   macro avg       0.79      0.81      0.79       408\n",
      "weighted avg       0.82      0.79      0.80       408\n",
      "\n",
      "Classification Report : \n",
      "               precision    recall  f1-score   support\n",
      "\n",
      "         1.0       1.00      0.69      0.82       258\n",
      "         2.0       0.65      1.00      0.79       150\n",
      "\n",
      "    accuracy                           0.80       408\n",
      "   macro avg       0.83      0.84      0.80       408\n",
      "weighted avg       0.87      0.80      0.81       408\n",
      "\n",
      "Classification Report : \n",
      "               precision    recall  f1-score   support\n",
      "\n",
      "         1.0       0.89      0.88      0.89       258\n",
      "         2.0       0.80      0.82      0.81       150\n",
      "\n",
      "    accuracy                           0.86       408\n",
      "   macro avg       0.85      0.85      0.85       408\n",
      "weighted avg       0.86      0.86      0.86       408\n",
      "\n",
      "Classification Report : \n",
      "               precision    recall  f1-score   support\n",
      "\n",
      "         1.0       0.93      0.79      0.86       258\n",
      "         2.0       0.72      0.90      0.80       150\n",
      "\n",
      "    accuracy                           0.83       408\n",
      "   macro avg       0.82      0.85      0.83       408\n",
      "weighted avg       0.85      0.83      0.84       408\n",
      "\n",
      "Classification Report : \n",
      "               precision    recall  f1-score   support\n",
      "\n",
      "         1.0       0.93      0.83      0.87       258\n",
      "         2.0       0.75      0.89      0.81       150\n",
      "\n",
      "    accuracy                           0.85       408\n",
      "   macro avg       0.84      0.86      0.84       408\n",
      "weighted avg       0.86      0.85      0.85       408\n",
      "\n"
     ]
    }
   ],
   "source": [
    "for i in pipelines:\n",
    "    i.fit(X_sm,y_sm)\n",
    "    predictions=i.predict(X_test)\n",
    "    print('Classification Report : \\n',(classification_report(y_test,predictions)))"
   ]
  },
  {
   "cell_type": "code",
   "execution_count": 48,
   "metadata": {},
   "outputs": [
    {
     "name": "stdout",
     "output_type": "stream",
     "text": [
      "Logistic Regression Test Accuracy 0.8112745098039216\n",
      "Decision Tree Test Accuracy 0.8308823529411765\n",
      "Random Forest Test Accuracy 0.8676470588235294\n",
      "KNN Test Accuracy 0.8382352941176471\n",
      "XGBC Test Accuracy 0.8651960784313726\n",
      "LGBC Test Accuracy 0.8725490196078431\n",
      "ADA Test Accuracy 0.8431372549019608\n",
      "SGDC Test Accuracy 0.7941176470588235\n",
      "NB Test Accuracy 0.803921568627451\n",
      "ExtraTree Test Accuracy 0.8602941176470589\n",
      "SVC Test Accuracy 0.8333333333333334\n",
      "GBC Test Accuracy 0.8504901960784313\n"
     ]
    }
   ],
   "source": [
    "for i,model in enumerate(pipelines):\n",
    "    print('{} Test Accuracy {}'.format(pipe_dict[i],model.score(X_test,y_test)))"
   ]
  },
  {
   "cell_type": "code",
   "execution_count": 49,
   "metadata": {},
   "outputs": [
    {
     "name": "stdout",
     "output_type": "stream",
     "text": [
      "Classifier with best accuracy:LGBC\n"
     ]
    }
   ],
   "source": [
    "for i,model in enumerate(pipelines):\n",
    "    if model.score(X_test,y_test)>best_accuracy:\n",
    "        best_accuracy=model.score(X_test,y_test)\n",
    "        best_classifier=i\n",
    "        best_pipeline=model\n",
    "print(\"Classifier with best accuracy:{}\".format(pipe_dict[best_classifier]))"
   ]
  },
  {
   "cell_type": "markdown",
   "metadata": {},
   "source": [
    "### Hyperparameter Tuning using RandomizedSearchCV"
   ]
  },
  {
   "cell_type": "code",
   "execution_count": 50,
   "metadata": {},
   "outputs": [
    {
     "ename": "SyntaxError",
     "evalue": "invalid syntax (<ipython-input-50-0fdd339d1d48>, line 16)",
     "output_type": "error",
     "traceback": [
      "\u001b[1;36m  File \u001b[1;32m\"<ipython-input-50-0fdd339d1d48>\"\u001b[1;36m, line \u001b[1;32m16\u001b[0m\n\u001b[1;33m    \"classifier__min_samples_leaf\":[1,2,5,10,15,100],\u001b[0m\n\u001b[1;37m                                 ^\u001b[0m\n\u001b[1;31mSyntaxError\u001b[0m\u001b[1;31m:\u001b[0m invalid syntax\n"
     ]
    }
   ],
   "source": [
    "# Create a pipeline\n",
    "pipe = Pipeline([(\"classifier\", RandomForestClassifier())])\n",
    "# Create dictionary with candidate learning algorithms and their hyperparameters\n",
    "r_param = [{\"classifier\": [LogisticRegression()],\n",
    "            \"classifier__penalty\": ['l2','l1'],\n",
    "            \"classifier__C\": np.logspace(0, 4, 10)},\n",
    "           \n",
    "           {\"classifier\": [LogisticRegression()],\n",
    "           \"classifier__penalty\": ['l2'],\n",
    "           \"classifier__C\": np.logspace(0, 4, 10),\n",
    "           \"classifier__solver\":['newton-cg','saga','sag','liblinear']},\n",
    "           \n",
    "          {\"classifier\": [DecisionTreeClassifier()],\n",
    "           \"classifier__criterion\":['gini','entropy'],\n",
    "           \"classifier__max_depth\":[5,8,15,25,30,None]\n",
    "           \"classifier__min_samples_leaf\":[1,2,5,10,15,100],\n",
    "           \"classifier__max_leaf_nodes\": [2, 5,10]},\n",
    "     \n",
    "          {\"classifier\": [RandomForestClassifier()],\n",
    "           \"classifier__n_estimators\": [10, 100, 1000],\n",
    "           \"classifier__max_depth\":[5,8,15,25,30,None], \n",
    "           \"classifier__min_samples_leaf\":[1,2,5,10,15,100],\n",
    "           \"classifier__max_leaf_nodes\": [2, 5,10]},\n",
    "      \n",
    "           {'classifier':[lgb.LGBMClassifier()],\n",
    "            'classifier__n_estimators':np.arange(50,250,5),\n",
    "            'classifier__max_depth':np.arange(2,15,5),\n",
    "            'classifier__num_leaves':np.arange(2,60,5)},\n",
    "           \n",
    "           {'classifier':[XGBClassifier()],\n",
    "            \"classifier__learning_rate\"    : [0.05, 0.10, 0.15, 0.20, 0.25, 0.30 ] ,\n",
    "            \"classifier__max_depth\"        : [ 3, 4, 5, 6, 8, 10, 12, 15],\n",
    "            \"classifier__min_child_weight\" : [ 1, 3, 5, 7 ],\n",
    "            \"classifier__gamma\"            : [ 0.0, 0.1, 0.2 , 0.3, 0.4 ],\n",
    "            \"classifier__colsample_bytree\" : [ 0.3, 0.4, 0.5 , 0.7 ]},\n",
    "           \n",
    "           {'classifier':[AdaBoostClassifier()],        \n",
    "           \"classifier__n_estimators\": sp_randint(50,250), \n",
    "            'classifier__learning_rate': [(0.97 + x / 100) for x in range(0, 8)],\n",
    "            'classifier__algorithm': ['SAMME', 'SAMME.R']},\n",
    "           \n",
    "           {'classifier':[KNN()],\n",
    "            \"classifier__weights\":['uniform','distance'],\n",
    "            'classifier__n_neighbors':np.arange(1,40),\n",
    "            'classifier__leaf_size':np.arange(2,40)},\n",
    "           \n",
    "           {'classifier':[SVC()],                      \n",
    "           'classifier__gamma':np.logspace(-4,2,10000),\n",
    "           'classifier__C':np.logspace(-2,2,10000)},\n",
    "           \n",
    "           {\"classifier\":[GradientBoostingClassifier()],\n",
    "            \"classifier__learning_rate\":np.arange(0.05,0.5,0.01),\n",
    "            \"classifier__n_estimators\":np.arange(50,250,5),\n",
    "            'classifier__max_depth':np.arange(4,15,5),\n",
    "            \"classifier__min_samples_leaf\":[1,2,5,10,15,100],\n",
    "            \"classifier__max_leaf_nodes\": [2, 5,10]}\n",
    "           \n",
    "          ]"
   ]
  },
  {
   "cell_type": "code",
   "execution_count": null,
   "metadata": {},
   "outputs": [],
   "source": [
    "rsearch = RandomizedSearchCV(pipe, r_param, cv=5, verbose=0,n_jobs=-1,random_state=0)"
   ]
  },
  {
   "cell_type": "code",
   "execution_count": null,
   "metadata": {},
   "outputs": [],
   "source": [
    "best_model_r = rsearch.fit(X_sm,y_sm)"
   ]
  },
  {
   "cell_type": "code",
   "execution_count": null,
   "metadata": {},
   "outputs": [],
   "source": [
    "print(best_model_r.best_estimator_)\n",
    "print(\"The mean accuracy of the model is through randomized search is :\",best_model_r.score(X_test,y_test))"
   ]
  },
  {
   "cell_type": "code",
   "execution_count": null,
   "metadata": {},
   "outputs": [],
   "source": [
    "Final_model=GradientBoostingClassifier(ccp_alpha=0.0,\n",
    "                                            criterion='friedman_mse', init=None,\n",
    "                                            learning_rate=0.060000000000000005,\n",
    "                                            loss='deviance', max_depth=14,\n",
    "                                            max_features=None,\n",
    "                                            max_leaf_nodes=10,\n",
    "                                            min_impurity_decrease=0.0,\n",
    "                                            min_impurity_split=None,\n",
    "                                            min_samples_leaf=1,\n",
    "                                            min_samples_split=2,\n",
    "                                            min_weight_fraction_leaf=0.0,\n",
    "                                            n_estimators=135,\n",
    "                                            n_iter_no_change=None,\n",
    "                                            presort='deprecated',\n",
    "                                            random_state=None, subsample=1.0,\n",
    "                                            tol=0.0001, validation_fraction=0.1,\n",
    "                                            verbose=0, warm_start=False)"
   ]
  },
  {
   "cell_type": "code",
   "execution_count": null,
   "metadata": {},
   "outputs": [],
   "source": [
    "model=Final_model.fit(X_sm,y_sm)\n",
    "model"
   ]
  },
  {
   "cell_type": "code",
   "execution_count": null,
   "metadata": {},
   "outputs": [],
   "source": [
    "model.score(X_test,y_test)"
   ]
  },
  {
   "cell_type": "code",
   "execution_count": null,
   "metadata": {},
   "outputs": [],
   "source": [
    "test.drop('class',axis=1,inplace=True)"
   ]
  },
  {
   "cell_type": "code",
   "execution_count": null,
   "metadata": {},
   "outputs": [],
   "source": [
    "test.head()"
   ]
  },
  {
   "cell_type": "code",
   "execution_count": null,
   "metadata": {},
   "outputs": [],
   "source": [
    "predictions=model.predict(test)"
   ]
  },
  {
   "cell_type": "code",
   "execution_count": null,
   "metadata": {},
   "outputs": [],
   "source": [
    "predictions"
   ]
  },
  {
   "cell_type": "code",
   "execution_count": null,
   "metadata": {},
   "outputs": [],
   "source": [
    "predictions.shape"
   ]
  },
  {
   "cell_type": "code",
   "execution_count": null,
   "metadata": {},
   "outputs": [],
   "source": [
    "predictions_prob=a.predict_proba(test)\n",
    "Submission = pd.DataFrame(predictions_prob)"
   ]
  },
  {
   "cell_type": "code",
   "execution_count": null,
   "metadata": {},
   "outputs": [],
   "source": [
    "Submission.to_csv('Submission_glass.csv',index=False)"
   ]
  }
 ],
 "metadata": {
  "kernelspec": {
   "display_name": "Python 3",
   "language": "python",
   "name": "python3"
  },
  "language_info": {
   "codemirror_mode": {
    "name": "ipython",
    "version": 3
   },
   "file_extension": ".py",
   "mimetype": "text/x-python",
   "name": "python",
   "nbconvert_exporter": "python",
   "pygments_lexer": "ipython3",
   "version": "3.7.4"
  }
 },
 "nbformat": 4,
 "nbformat_minor": 2
}
